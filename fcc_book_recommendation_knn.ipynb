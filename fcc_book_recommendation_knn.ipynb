{
  "cells": [
    {
      "cell_type": "code",
      "execution_count": null,
      "metadata": {
        "id": "Y1onB6kUvo4Z"
      },
      "outputs": [],
      "source": [
        "# import libraries (you may add additional imports but you may not have to)\n",
        "import numpy as np\n",
        "import pandas as pd\n",
        "from scipy.sparse import csr_matrix\n",
        "from sklearn.neighbors import NearestNeighbors\n",
        "import matplotlib.pyplot as plt"
      ]
    },
    {
      "cell_type": "code",
      "execution_count": null,
      "metadata": {
        "id": "iAQGqqO_vo4d"
      },
      "outputs": [],
      "source": [
        "# get data files\n",
        "!wget https://cdn.freecodecamp.org/project-data/books/book-crossings.zip\n",
        "\n",
        "!unzip book-crossings.zip\n",
        "\n",
        "books_filename = 'BX-Books.csv'\n",
        "ratings_filename = 'BX-Book-Ratings.csv'"
      ]
    },
    {
      "cell_type": "code",
      "execution_count": null,
      "metadata": {
        "id": "NClILWOiEd6Q"
      },
      "outputs": [],
      "source": [
        "# import csv data into dataframes\n",
        "df_books = pd.read_csv(\n",
        "    books_filename,\n",
        "    encoding = \"ISO-8859-1\",\n",
        "    sep=\";\",\n",
        "    header=0,\n",
        "    names=['isbn', 'title', 'author'],\n",
        "    usecols=['isbn', 'title', 'author'],\n",
        "    dtype={'isbn': 'str', 'title': 'str', 'author': 'str'})\n",
        "\n",
        "df_ratings = pd.read_csv(\n",
        "    ratings_filename,\n",
        "    encoding = \"ISO-8859-1\",\n",
        "    sep=\";\",\n",
        "    header=0,\n",
        "    names=['user', 'isbn', 'rating'],\n",
        "    usecols=['user', 'isbn', 'rating'],\n",
        "    dtype={'user': 'int32', 'isbn': 'str', 'rating': 'float32'})"
      ]
    },
    {
      "cell_type": "code",
      "execution_count": 72,
      "metadata": {
        "id": "xAcXjkCFCh0A"
      },
      "outputs": [],
      "source": [
        "# add your code here - consider creating a new cell for each section of code\n",
        "# Filter users with at least 200 ratings\n",
        "user_counts = df_ratings['user'].value_counts()\n",
        "df_ratings = df_ratings[df_ratings['user'].isin(user_counts[user_counts >= 200].index)]\n",
        "\n",
        "# Filter books with at least 100 ratings\n",
        "book_counts = df_ratings['isbn'].value_counts()\n",
        "df_ratings = df_ratings[df_ratings['isbn'].isin(book_counts[book_counts >= 100].index)]\n",
        "\n",
        "# Merge to get book titles\n",
        "df = pd.merge(df_ratings, df_books, on='isbn')\n",
        "\n",
        "# Create pivot table\n",
        "book_user_matrix = df.pivot_table(index='title', columns='user', values='rating').fillna(0)\n",
        "\n",
        "# Convert to sparse matrix\n",
        "book_user_sparse = csr_matrix(book_user_matrix.values)\n",
        "\n",
        "# Fit the model\n",
        "model = NearestNeighbors(metric='cosine', algorithm='brute')\n",
        "model.fit(book_user_sparse)\n",
        "\n",
        "def get_recommends(book=\"\"):\n",
        "    if book not in book_user_matrix.index:\n",
        "        return [book, []]\n",
        "\n",
        "    book_index = book_user_matrix.index.get_loc(book)\n",
        "    distances, indices = model.kneighbors(book_user_matrix.iloc[book_index, :].values.reshape(1, -1), n_neighbors=6)\n",
        "\n",
        "    recommended_books = []\n",
        "    for i in range(1, len(distances.flatten())):\n",
        "        title = book_user_matrix.index[indices.flatten()[i]]\n",
        "        distance = distances.flatten()[i]\n",
        "        recommended_books.append([title, distance])\n",
        "\n",
        "    return [book, recommended_books]\n"
      ]
    },
    {
      "cell_type": "code",
      "source": [
        "recommended_books = get_recommends(\"Where the Heart Is (Oprah's Book Club (Paperback))\")\n",
        "recommended_books"
      ],
      "metadata": {
        "id": "qXX5DnfkuJDG",
        "outputId": "d1c6301b-d14c-4aa8-e937-a9ba3f14d7bb",
        "colab": {
          "base_uri": "https://localhost:8080/"
        }
      },
      "execution_count": 73,
      "outputs": [
        {
          "output_type": "execute_result",
          "data": {
            "text/plain": [
              "[\"Where the Heart Is (Oprah's Book Club (Paperback))\",\n",
              " [['The Lovely Bones: A Novel', np.float32(0.7234864)],\n",
              "  [\"The Pilot's Wife : A Novel\", np.float32(0.81926787)],\n",
              "  ['The Joy Luck Club', np.float32(0.81986046)],\n",
              "  ['The Notebook', np.float32(0.82366824)],\n",
              "  ['Bel Canto: A Novel', np.float32(0.8247875)]]]"
            ]
          },
          "metadata": {},
          "execution_count": 73
        }
      ]
    },
    {
      "cell_type": "code",
      "execution_count": 74,
      "metadata": {
        "id": "f5ZUd-L1SQz7"
      },
      "outputs": [],
      "source": [
        "# function to return recommended books - this will be tested\n",
        "def get_recommends(book = \"\"):\n",
        "\n",
        "\n",
        "  return recommended_books"
      ]
    },
    {
      "cell_type": "code",
      "execution_count": 78,
      "metadata": {
        "id": "jd2SLCh8oxMh",
        "outputId": "31272754-25d5-4448-a2e2-b3978b3b74e3",
        "colab": {
          "base_uri": "https://localhost:8080/"
        }
      },
      "outputs": [
        {
          "output_type": "stream",
          "name": "stdout",
          "text": [
            "[\"Where the Heart Is (Oprah's Book Club (Paperback))\", [['The Lovely Bones: A Novel', np.float32(0.7234864)], [\"The Pilot's Wife : A Novel\", np.float32(0.81926787)], ['The Joy Luck Club', np.float32(0.81986046)], ['The Notebook', np.float32(0.82366824)], ['Bel Canto: A Novel', np.float32(0.8247875)]]]\n",
            "You passed the challenge! 🎉🎉🎉🎉🎉\n"
          ]
        }
      ],
      "source": [
        "books = get_recommends(\"Where the Heart Is (Oprah's Book Club (Paperback))\")\n",
        "print(books)\n",
        "\n",
        "def test_book_recommendation():\n",
        "  test_pass = True\n",
        "  recommends = get_recommends(\"Where the Heart Is (Oprah's Book Club (Paperback))\")\n",
        "  if recommends[0] != \"Where the Heart Is (Oprah's Book Club (Paperback))\":\n",
        "    test_pass = False\n",
        "  recommended_books = ['The Lovely Bones: A Novel',\"The Pilot's Wife : A Novel\",'The Joy Luck Club','The Notebook','Bel Canto: A Novel']\n",
        "  recommended_books_dist = [0.72, 0.81, 0.81, 0.82, 0.82]\n",
        "  for i in range(2):\n",
        "    if recommends[1][i][0] not in recommended_books:\n",
        "      test_pass = False\n",
        "    if abs(recommends[1][i][1] - recommended_books_dist[i]) >= 0.05:\n",
        "      test_pass = False\n",
        "  if test_pass:\n",
        "    print(\"You passed the challenge! 🎉🎉🎉🎉🎉\")\n",
        "  else:\n",
        "    print(\"You haven't passed yet. Keep trying!\")\n",
        "\n",
        "test_book_recommendation()"
      ]
    },
    {
      "cell_type": "code",
      "source": [],
      "metadata": {
        "id": "9PFPP4mduLTX"
      },
      "execution_count": null,
      "outputs": []
    }
  ],
  "metadata": {
    "colab": {
      "name": "fcc_book_recommendation_knn.ipynb",
      "provenance": []
    },
    "kernelspec": {
      "display_name": "Python 3",
      "language": "python",
      "name": "python3"
    },
    "language_info": {
      "codemirror_mode": {
        "name": "ipython",
        "version": 3
      },
      "file_extension": ".py",
      "mimetype": "text/x-python",
      "name": "python",
      "nbconvert_exporter": "python",
      "pygments_lexer": "ipython3",
      "version": "3.6.5"
    }
  },
  "nbformat": 4,
  "nbformat_minor": 0
}